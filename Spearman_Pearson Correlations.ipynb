{
  "cells": [
    {
      "cell_type": "markdown",
      "metadata": {
        "id": "view-in-github",
        "colab_type": "text"
      },
      "source": [
        "<a href=\"https://colab.research.google.com/github/Mlad-en/COV-BG/blob/main/Spearman_Pearson%20Correlations.ipynb\" target=\"_parent\"><img src=\"https://colab.research.google.com/assets/colab-badge.svg\" alt=\"Open In Colab\"/></a>"
      ]
    },
    {
      "cell_type": "code",
      "source": [
        "!pip install openpyxl --upgrade"
      ],
      "metadata": {
        "colab": {
          "base_uri": "https://localhost:8080/"
        },
        "id": "n5tRQ5ngeyZE",
        "outputId": "b5fd7db7-3d0c-4d83-f930-813b85e9dbfe"
      },
      "execution_count": 1,
      "outputs": [
        {
          "output_type": "stream",
          "name": "stdout",
          "text": [
            "Requirement already satisfied: openpyxl in /usr/local/lib/python3.7/dist-packages (3.0.9)\n",
            "Requirement already satisfied: et-xmlfile in /usr/local/lib/python3.7/dist-packages (from openpyxl) (1.1.0)\n"
          ]
        }
      ]
    },
    {
      "cell_type": "code",
      "execution_count": 2,
      "metadata": {
        "id": "q8y7qdAbPoP5"
      },
      "outputs": [],
      "source": [
        "import pandas as pd\n",
        "import openpyxl as xl\n",
        "from scipy import stats"
      ]
    },
    {
      "cell_type": "code",
      "execution_count": 3,
      "metadata": {
        "id": "2AQRNvDrQ65t"
      },
      "outputs": [],
      "source": [
        "mortality_link = \"https://github.com/Mlad-en/COV-BG/blob/main/data_output/Excess%20Mortality/Predicted/Countries/2020/Predicted_Excess_Mortality_EU_2020_%5B'Female',%20'Male',%20'Total'%5D_Total.xlsx?raw=true\"\n",
        "asyr_link = \"https://github.com/Mlad-en/COV-BG/blob/main/data_output/PYLL/EU_ASYR_(0-4)-(85-89)_%5B'Female',%20'Male',%20'Total'%5D.xlsx?raw=true\"\n",
        "pyll_link = \"https://github.com/Mlad-en/COV-BG/blob/main/data_output/PYLL/EU_PYLL_(0-4)-(85-89)_%5B'Female',%20'Male',%20'Total'%5D.xlsx?raw=true\"\n",
        "wyll_link = \"https://github.com/Mlad-en/COV-BG/blob/main/data_output/PYLL/EU_WYLL_(15-19)-(60-64)_%5B'Female',%20'Male',%20'Total'%5D.xlsx?raw=true\"\n",
        "cvd_link = \"https://raw.githubusercontent.com/Mlad-en/COV-BG/main/data_source/Population/Cardiovascular_diseases_Health_update_2021_cleaned.csv\""
      ]
    },
    {
      "cell_type": "code",
      "execution_count": 4,
      "metadata": {
        "id": "BqPGFTfDRGR3"
      },
      "outputs": [],
      "source": [
        "mort = pd.read_excel(mortality_link, sheet_name='Total', engine='openpyxl')\n",
        "asyr = pd.read_excel(asyr_link, engine='openpyxl')\n",
        "pyll = pd.read_excel(pyll_link, engine='openpyxl')\n",
        "wyll = pd.read_excel(wyll_link, engine='openpyxl')\n",
        "cvds = pd.read_csv(cvd_link)"
      ]
    },
    {
      "cell_type": "code",
      "execution_count": 5,
      "metadata": {
        "id": "6lr7wKYyhXEK"
      },
      "outputs": [],
      "source": [
        "asyr = asyr.loc[(asyr['Sex']=='Total'), ['Location', 'ASYR']]\n",
        "pyll = pyll.loc[(pyll['Sex']=='Total'), ['Location', 'PYLL_STD_MEAN']]\n",
        "wyll = wyll.loc[(wyll['Sex']=='Total'), ['Location', 'WYLL_STD_MEAN']]\n",
        "\n",
        "asyr_pyll_wyll = asyr.merge(pyll, on='Location')\n",
        "asyr_pyll_wyll = asyr_pyll_wyll.merge(wyll, on='Location')"
      ]
    },
    {
      "cell_type": "code",
      "execution_count": 6,
      "metadata": {
        "id": "ey4CZVZQiWxN"
      },
      "outputs": [],
      "source": [
        "mort = mort.loc[(mort['SIGNIFICANT']=='Significant Increase'), ['Location', 'Excess_mortality', 'P_Score', 'Excess_mortality_per_100_000']]"
      ]
    },
    {
      "cell_type": "code",
      "execution_count": 7,
      "metadata": {
        "id": "fhIKE4OaibgC"
      },
      "outputs": [],
      "source": [
        "cvd_mort = mort.merge(cvds, on='Location')"
      ]
    },
    {
      "cell_type": "code",
      "execution_count": 8,
      "metadata": {
        "id": "5jUNPkJ9id21"
      },
      "outputs": [],
      "source": [
        "cvd_mort_per_100_000 = cvd_mort.loc[:,['Location', \n",
        "                                       'Excess_mortality_per_100_000', \n",
        "                                       'P_Score',\n",
        "                                       'Per 100_000-Total',\n",
        "                                       'Per 100_000-LT65',]].copy()"
      ]
    },
    {
      "cell_type": "code",
      "execution_count": 9,
      "metadata": {
        "id": "Ru4C4SECilvg"
      },
      "outputs": [],
      "source": [
        "cvd_mort_per_100_000 = cvd_mort_per_100_000.merge(asyr_pyll_wyll, on='Location')"
      ]
    },
    {
      "cell_type": "code",
      "execution_count": 10,
      "metadata": {
        "id": "sfqj6l7CioG9"
      },
      "outputs": [],
      "source": [
        "relations = [\n",
        "      ['P_Score', 'Per 100_000-Total'],\n",
        "      ['Excess_mortality_per_100_000', 'Per 100_000-Total'],\n",
        "      ['PYLL_STD_MEAN', 'Per 100_000-Total'],\n",
        "      ['ASYR', 'Per 100_000-Total'],\n",
        "      ['WYLL_STD_MEAN', 'Per 100_000-LT65'],\n",
        "      ] \n",
        "mapping = {}"
      ]
    },
    {
      "cell_type": "markdown",
      "source": [
        "# Results"
      ],
      "metadata": {
        "id": "qY-m6FXK8-q9"
      }
    },
    {
      "cell_type": "code",
      "execution_count": 16,
      "metadata": {
        "colab": {
          "base_uri": "https://localhost:8080/",
          "height": 215
        },
        "id": "86PMyIi5i2Fw",
        "outputId": "5a8c7042-f70c-4d7a-df88-b0ee346de3e5"
      },
      "outputs": [
        {
          "output_type": "execute_result",
          "data": {
            "text/html": [
              "\n",
              "  <div id=\"df-bcf5b384-b78f-440b-8647-2b2ca91a1e00\">\n",
              "    <div class=\"colab-df-container\">\n",
              "      <div>\n",
              "<style scoped>\n",
              "    .dataframe tbody tr th:only-of-type {\n",
              "        vertical-align: middle;\n",
              "    }\n",
              "\n",
              "    .dataframe tbody tr th {\n",
              "        vertical-align: top;\n",
              "    }\n",
              "\n",
              "    .dataframe thead th {\n",
              "        text-align: right;\n",
              "    }\n",
              "</style>\n",
              "<table border=\"1\" class=\"dataframe\">\n",
              "  <thead>\n",
              "    <tr style=\"text-align: right;\">\n",
              "      <th></th>\n",
              "      <th>pearson_coef</th>\n",
              "      <th>p_value</th>\n",
              "      <th>spearman_coef</th>\n",
              "      <th>p_value_spearman</th>\n",
              "    </tr>\n",
              "  </thead>\n",
              "  <tbody>\n",
              "    <tr>\n",
              "      <th>P_Score ~ Per 100_000-Total</th>\n",
              "      <td>0.14775</td>\n",
              "      <td>0.49085</td>\n",
              "      <td>0.05610</td>\n",
              "      <td>0.79458</td>\n",
              "    </tr>\n",
              "    <tr>\n",
              "      <th>Excess_mortality_per_100_000 ~ Per 100_000-Total</th>\n",
              "      <td>0.52584</td>\n",
              "      <td>0.00831</td>\n",
              "      <td>0.34522</td>\n",
              "      <td>0.09850</td>\n",
              "    </tr>\n",
              "    <tr>\n",
              "      <th>PYLL_STD_MEAN ~ Per 100_000-Total</th>\n",
              "      <td>0.60926</td>\n",
              "      <td>0.00158</td>\n",
              "      <td>0.43304</td>\n",
              "      <td>0.03454</td>\n",
              "    </tr>\n",
              "    <tr>\n",
              "      <th>ASYR ~ Per 100_000-Total</th>\n",
              "      <td>0.58387</td>\n",
              "      <td>0.00274</td>\n",
              "      <td>0.42000</td>\n",
              "      <td>0.04102</td>\n",
              "    </tr>\n",
              "    <tr>\n",
              "      <th>WYLL_STD_MEAN ~ Per 100_000-LT65</th>\n",
              "      <td>0.66024</td>\n",
              "      <td>0.00045</td>\n",
              "      <td>0.46522</td>\n",
              "      <td>0.02198</td>\n",
              "    </tr>\n",
              "  </tbody>\n",
              "</table>\n",
              "</div>\n",
              "      <button class=\"colab-df-convert\" onclick=\"convertToInteractive('df-bcf5b384-b78f-440b-8647-2b2ca91a1e00')\"\n",
              "              title=\"Convert this dataframe to an interactive table.\"\n",
              "              style=\"display:none;\">\n",
              "        \n",
              "  <svg xmlns=\"http://www.w3.org/2000/svg\" height=\"24px\"viewBox=\"0 0 24 24\"\n",
              "       width=\"24px\">\n",
              "    <path d=\"M0 0h24v24H0V0z\" fill=\"none\"/>\n",
              "    <path d=\"M18.56 5.44l.94 2.06.94-2.06 2.06-.94-2.06-.94-.94-2.06-.94 2.06-2.06.94zm-11 1L8.5 8.5l.94-2.06 2.06-.94-2.06-.94L8.5 2.5l-.94 2.06-2.06.94zm10 10l.94 2.06.94-2.06 2.06-.94-2.06-.94-.94-2.06-.94 2.06-2.06.94z\"/><path d=\"M17.41 7.96l-1.37-1.37c-.4-.4-.92-.59-1.43-.59-.52 0-1.04.2-1.43.59L10.3 9.45l-7.72 7.72c-.78.78-.78 2.05 0 2.83L4 21.41c.39.39.9.59 1.41.59.51 0 1.02-.2 1.41-.59l7.78-7.78 2.81-2.81c.8-.78.8-2.07 0-2.86zM5.41 20L4 18.59l7.72-7.72 1.47 1.35L5.41 20z\"/>\n",
              "  </svg>\n",
              "      </button>\n",
              "      \n",
              "  <style>\n",
              "    .colab-df-container {\n",
              "      display:flex;\n",
              "      flex-wrap:wrap;\n",
              "      gap: 12px;\n",
              "    }\n",
              "\n",
              "    .colab-df-convert {\n",
              "      background-color: #E8F0FE;\n",
              "      border: none;\n",
              "      border-radius: 50%;\n",
              "      cursor: pointer;\n",
              "      display: none;\n",
              "      fill: #1967D2;\n",
              "      height: 32px;\n",
              "      padding: 0 0 0 0;\n",
              "      width: 32px;\n",
              "    }\n",
              "\n",
              "    .colab-df-convert:hover {\n",
              "      background-color: #E2EBFA;\n",
              "      box-shadow: 0px 1px 2px rgba(60, 64, 67, 0.3), 0px 1px 3px 1px rgba(60, 64, 67, 0.15);\n",
              "      fill: #174EA6;\n",
              "    }\n",
              "\n",
              "    [theme=dark] .colab-df-convert {\n",
              "      background-color: #3B4455;\n",
              "      fill: #D2E3FC;\n",
              "    }\n",
              "\n",
              "    [theme=dark] .colab-df-convert:hover {\n",
              "      background-color: #434B5C;\n",
              "      box-shadow: 0px 1px 3px 1px rgba(0, 0, 0, 0.15);\n",
              "      filter: drop-shadow(0px 1px 2px rgba(0, 0, 0, 0.3));\n",
              "      fill: #FFFFFF;\n",
              "    }\n",
              "  </style>\n",
              "\n",
              "      <script>\n",
              "        const buttonEl =\n",
              "          document.querySelector('#df-bcf5b384-b78f-440b-8647-2b2ca91a1e00 button.colab-df-convert');\n",
              "        buttonEl.style.display =\n",
              "          google.colab.kernel.accessAllowed ? 'block' : 'none';\n",
              "\n",
              "        async function convertToInteractive(key) {\n",
              "          const element = document.querySelector('#df-bcf5b384-b78f-440b-8647-2b2ca91a1e00');\n",
              "          const dataTable =\n",
              "            await google.colab.kernel.invokeFunction('convertToInteractive',\n",
              "                                                     [key], {});\n",
              "          if (!dataTable) return;\n",
              "\n",
              "          const docLinkHtml = 'Like what you see? Visit the ' +\n",
              "            '<a target=\"_blank\" href=https://colab.research.google.com/notebooks/data_table.ipynb>data table notebook</a>'\n",
              "            + ' to learn more about interactive tables.';\n",
              "          element.innerHTML = '';\n",
              "          dataTable['output_type'] = 'display_data';\n",
              "          await google.colab.output.renderOutput(dataTable, element);\n",
              "          const docLink = document.createElement('div');\n",
              "          docLink.innerHTML = docLinkHtml;\n",
              "          element.appendChild(docLink);\n",
              "        }\n",
              "      </script>\n",
              "    </div>\n",
              "  </div>\n",
              "  "
            ],
            "text/plain": [
              "                                                 pearson_coef  ... p_value_spearman\n",
              "P_Score ~ Per 100_000-Total                           0.14775  ...          0.79458\n",
              "Excess_mortality_per_100_000 ~ Per 100_000-Total      0.52584  ...          0.09850\n",
              "PYLL_STD_MEAN ~ Per 100_000-Total                     0.60926  ...          0.03454\n",
              "ASYR ~ Per 100_000-Total                              0.58387  ...          0.04102\n",
              "WYLL_STD_MEAN ~ Per 100_000-LT65                      0.66024  ...          0.02198\n",
              "\n",
              "[5 rows x 4 columns]"
            ]
          },
          "metadata": {},
          "execution_count": 16
        }
      ],
      "source": [
        "for rel in relations:\n",
        "      pearson_coef, p_value = stats.pearsonr(cvd_mort_per_100_000[rel[0]], cvd_mort_per_100_000[rel[1]])\n",
        "      spearman_coef, p_value_spearman = stats.spearmanr(cvd_mort_per_100_000[rel[0]], cvd_mort_per_100_000[rel[1]])\n",
        "      key = \" \".join([rel[0], \"~\", rel[1]])\n",
        "      mapping[key] = {\n",
        "                      'pearson_coef': f'{pearson_coef:.5f}',\n",
        "                      'p_value': f'{p_value:.5f}',\n",
        "                      'spearman_coef': f'{spearman_coef:.5f}',\n",
        "                      'p_value_spearman': f'{p_value_spearman:.5f}',\n",
        "                    }\n",
        "pd.DataFrame(mapping).T"
      ]
    }
  ],
  "metadata": {
    "colab": {
      "collapsed_sections": [],
      "name": "Spearman.ipynb",
      "provenance": [],
      "authorship_tag": "ABX9TyN/R4xl0RGo9FvPqFLwMUhK",
      "include_colab_link": true
    },
    "kernelspec": {
      "display_name": "Python 3",
      "name": "python3"
    },
    "language_info": {
      "name": "python"
    }
  },
  "nbformat": 4,
  "nbformat_minor": 0
}